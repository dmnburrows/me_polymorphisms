{
 "cells": [
  {
   "cell_type": "markdown",
   "metadata": {},
   "source": [
    "# Process RepeatMasker annotation file"
   ]
  },
  {
   "cell_type": "markdown",
   "metadata": {},
   "source": [
    "## Merge hits corresponding to the same element"
   ]
  },
  {
   "cell_type": "code",
   "execution_count": 1,
   "metadata": {},
   "outputs": [],
   "source": [
    "import pandas as pd\n",
    "import numpy as np\n",
    "import pybedtools\n",
    "import seaborn as sns\n",
    "import matplotlib.pyplot as plt\n",
    "\n",
    "import sys\n",
    "sys.path.insert(1, '../') \n",
    "\n",
    "from src import process_rmsk"
   ]
  },
  {
   "cell_type": "code",
   "execution_count": 2,
   "metadata": {},
   "outputs": [],
   "source": [
    "rmsk = \"/home/AD/rkgadde/L1IP/RepeatMasker/hg38_noALT.interspersed.autosomes.bed\"\n",
    "cols = ['chrom', 'start', 'end', 'name', 'score', 'strand'] \n",
    "df = pd.read_csv(rmsk, sep=\"\\t\", names=cols)"
   ]
  },
  {
   "cell_type": "code",
   "execution_count": 3,
   "metadata": {},
   "outputs": [],
   "source": [
    "df_merge = process_rmsk.merge_on_rmsk_id(df)\n",
    "df_merge = df_merge[cols]"
   ]
  },
  {
   "cell_type": "markdown",
   "metadata": {},
   "source": [
    "## Investigate poly-A/T tails in RepeatMasker annotation"
   ]
  },
  {
   "cell_type": "markdown",
   "metadata": {},
   "source": [
    "RepeatMasker is not consistent about whether poly-A tails are annotated separately as a simple repeat or included in the coordinates of an interspersed repeat. From our understanding, poly-A tails surpassing a certain length are annotated separately. Here, we merge mobile elements with their poly-A tails."
   ]
  },
  {
   "cell_type": "markdown",
   "metadata": {},
   "source": [
    "### Find elements with long poly-A tails and merge coordinates"
   ]
  },
  {
   "cell_type": "code",
   "execution_count": 4,
   "metadata": {},
   "outputs": [],
   "source": [
    "me_df = df_merge[~df_merge['name'].str.contains(r'\\(A+\\)n|\\(T+\\)n', regex=True)]\n",
    "pA_df = df_merge[df_merge['name'].str.contains(r'\\(A+\\)n|\\(T+\\)n', regex=True)]"
   ]
  },
  {
   "cell_type": "code",
   "execution_count": 5,
   "metadata": {},
   "outputs": [],
   "source": [
    "def get_3prime_region(df, n):\n",
    "    \"\"\"For each feature, return the region of length n immediately downstream\n",
    "    of the 3' end.\"\"\"\n",
    "    df_out = df.copy()\n",
    "    \n",
    "    df_out.loc[df_out['strand'] == '+', 'start'] = df_out['end']\n",
    "    df_out.loc[df_out['strand'] == '+', 'end'] = df_out['end'] + n\n",
    "\n",
    "    df_out.loc[df_out['strand'] == '-', 'end'] = df_out['start']\n",
    "    df_out.loc[df_out['strand'] == '-', 'start'] = df_out['start'] - n\n",
    "\n",
    "    return df_out"
   ]
  },
  {
   "cell_type": "code",
   "execution_count": 6,
   "metadata": {},
   "outputs": [],
   "source": [
    "me3 = get_3prime_region(me_df, 12) # get 12 bp downstream of 3' end\n",
    "me3 = pybedtools.BedTool.from_dataframe(me3)\n",
    "simple = pybedtools.BedTool.from_dataframe(pA_df)\n",
    "me3_simple = simple.intersect(me3, wa=True, wb=True) # find MEs with tails"
   ]
  },
  {
   "cell_type": "code",
   "execution_count": null,
   "metadata": {},
   "outputs": [],
   "source": [
    "me_intersect = me3_simple.to_dataframe() \n",
    "me_tails = me_intersect.iloc[:, [0,1,2,9,4,11]] # tails that intersect 3' region of an ME\n",
    "me_tails.columns = cols\n",
    "\n",
    "tailed_mes = me_intersect.iloc[:, [9,10]]\n",
    "tailed_mes.columns = ['name', 'score']\n",
    "tailed_mes = me_df.merge(tailed_mes)"
   ]
  },
  {
   "cell_type": "code",
   "execution_count": 8,
   "metadata": {},
   "outputs": [
    {
     "name": "stdout",
     "output_type": "stream",
     "text": [
      "6403 6403\n"
     ]
    }
   ],
   "source": [
    "print(len(me_tails), len(tailed_mes)) # check if each ME has only 1 tail"
   ]
  },
  {
   "cell_type": "code",
   "execution_count": 9,
   "metadata": {},
   "outputs": [],
   "source": [
    "me_concat = pd.concat([me_tails, tailed_mes])\n",
    "me_merged = me_concat.groupby(['name', 'chrom', 'strand']).agg({'start': 'min', \n",
    "                                                                'end': 'max',\n",
    "                                                                'score': 'sum'}).reset_index() # merge ME with tail"
   ]
  },
  {
   "cell_type": "code",
   "execution_count": null,
   "metadata": {},
   "outputs": [],
   "source": [
    "with_tails = me_merged[cols]\n",
    "no_tails = me_df[~me_df['name'].isin(with_tails['name'])]\n",
    "me_coords = pd.concat([no_tails, with_tails])\n",
    "me_coords = me_coords.sort_values(['chrom', 'start', 'end'])"
   ]
  },
  {
   "cell_type": "code",
   "execution_count": 11,
   "metadata": {},
   "outputs": [],
   "source": [
    "me_file = '/home/AD/rkgadde/L1IP/RepeatMasker/hg38_noALT.interspersed.merged.bed'\n",
    "me_coords.to_csv(me_file, sep='\\t', index=False, header=None)\n",
    "\n",
    "tail_file = '/home/AD/rkgadde/L1IP/RepeatMasker/hg38_noALT.tails.bed'\n",
    "me_tails.to_csv(tail_file, sep='\\t', index=False, header=None)"
   ]
  },
  {
   "cell_type": "markdown",
   "metadata": {},
   "source": [
    "## Filter elements by length and subfamily"
   ]
  },
  {
   "cell_type": "code",
   "execution_count": 12,
   "metadata": {},
   "outputs": [],
   "source": [
    "me_coords = me_coords[me_coords['score'] > 80]"
   ]
  },
  {
   "cell_type": "code",
   "execution_count": 13,
   "metadata": {},
   "outputs": [],
   "source": [
    "me_coords['subfamily'] = me_coords['name'].str.extract(r'(.*)_[0-9]+')"
   ]
  },
  {
   "cell_type": "code",
   "execution_count": 14,
   "metadata": {},
   "outputs": [],
   "source": [
    "subfamilies = ['L1HS', 'L1PA2', 'L1PA3', 'L1PA4', 'L1PA5',\n",
    "               'AluJo', 'AluSx', 'AluY', 'AluYa5', 'AluYb8']\n",
    "me_coords = me_coords[me_coords['subfamily'].isin(subfamilies)]"
   ]
  },
  {
   "cell_type": "code",
   "execution_count": 15,
   "metadata": {},
   "outputs": [
    {
     "data": {
      "text/plain": [
       "subfamily\n",
       "AluSx     298768\n",
       "AluY      101744\n",
       "AluJo      12713\n",
       "L1PA4      10085\n",
       "L1PA5       9181\n",
       "L1PA3       7982\n",
       "L1PA2       4400\n",
       "AluYa5      3570\n",
       "AluYb8      3168\n",
       "L1HS        1442\n",
       "Name: count, dtype: int64"
      ]
     },
     "execution_count": 15,
     "metadata": {},
     "output_type": "execute_result"
    }
   ],
   "source": [
    "me_coords['subfamily'].value_counts()"
   ]
  },
  {
   "cell_type": "markdown",
   "metadata": {},
   "source": [
    "## Remove elements within 1kb of another element"
   ]
  },
  {
   "cell_type": "code",
   "execution_count": 16,
   "metadata": {},
   "outputs": [],
   "source": [
    "l1 = me_coords[me_coords['name'].str.contains('L1')]\n",
    "alu = me_coords[me_coords['name'].str.contains('Alu')]"
   ]
  },
  {
   "cell_type": "code",
   "execution_count": 17,
   "metadata": {},
   "outputs": [],
   "source": [
    "l1_rm = process_rmsk.remove_nearby_MEs(l1, 1000)\n",
    "alu_rm  = process_rmsk.remove_nearby_MEs(alu, 1000)"
   ]
  },
  {
   "cell_type": "code",
   "execution_count": 18,
   "metadata": {},
   "outputs": [
    {
     "data": {
      "text/plain": [
       "0    \n",
       "L1PA4    7569\n",
       "L1PA5    7146\n",
       "L1PA3    5391\n",
       "L1PA2    3052\n",
       "L1HS      870\n",
       "Name: count, dtype: int64"
      ]
     },
     "execution_count": 18,
     "metadata": {},
     "output_type": "execute_result"
    }
   ],
   "source": [
    "l1_rm['name'].str.extract(r'(.*)_[0-9]+').value_counts()"
   ]
  },
  {
   "cell_type": "code",
   "execution_count": 19,
   "metadata": {},
   "outputs": [
    {
     "data": {
      "text/plain": [
       "0     \n",
       "AluSx     160243\n",
       "AluY       58199\n",
       "AluJo       6471\n",
       "AluYa5      2461\n",
       "AluYb8      2075\n",
       "Name: count, dtype: int64"
      ]
     },
     "execution_count": 19,
     "metadata": {},
     "output_type": "execute_result"
    }
   ],
   "source": [
    "alu_rm['name'].str.extract(r'(.*)_[0-9]+').value_counts()"
   ]
  },
  {
   "cell_type": "markdown",
   "metadata": {},
   "source": [
    "## Remove polymorphic elements"
   ]
  },
  {
   "cell_type": "code",
   "execution_count": 20,
   "metadata": {},
   "outputs": [],
   "source": [
    "vardir = '/home/AD/rkgadde/L1IP/mC_data/CZI/type/vars'"
   ]
  },
  {
   "cell_type": "code",
   "execution_count": 21,
   "metadata": {},
   "outputs": [],
   "source": [
    "poly_l1 = np.loadtxt(f'{vardir}/polymorphic_refL1.txt', dtype=str)\n",
    "poly_alu = np.loadtxt(f'{vardir}/polymorphic_refAlu.txt', dtype=str)"
   ]
  },
  {
   "cell_type": "code",
   "execution_count": 22,
   "metadata": {},
   "outputs": [],
   "source": [
    "np_l1 = l1_rm[~l1_rm['name'].isin(poly_l1)]\n",
    "np_alu = alu_rm[~alu_rm['name'].isin(poly_alu)]"
   ]
  },
  {
   "cell_type": "code",
   "execution_count": 23,
   "metadata": {},
   "outputs": [],
   "source": [
    "np_l1.to_csv(f'{vardir}/non-polymorphic_refL1.bed', sep='\\t', index=False, header=None)\n",
    "np_alu.to_csv(f'{vardir}/non-polymorphic_refAlu.bed', sep='\\t', index=False, header=None)"
   ]
  },
  {
   "cell_type": "markdown",
   "metadata": {},
   "source": [
    "## Subsample non-polymorphic elements"
   ]
  },
  {
   "cell_type": "code",
   "execution_count": 24,
   "metadata": {},
   "outputs": [],
   "source": [
    "def subsample_elements(df):\n",
    "    subfamilies = df['subfamily'].unique() \n",
    "    n_sample = df['subfamily'].value_counts().min()\n",
    "\n",
    "    dfs = []\n",
    "\n",
    "    for fam in subfamilies:\n",
    "        subsample = df[df['subfamily'] == fam].sample(n=n_sample, random_state=0)\n",
    "        dfs.append(subsample)\n",
    "\n",
    "    df_out = pd.concat(dfs)\n",
    "    return df_out"
   ]
  },
  {
   "cell_type": "code",
   "execution_count": 25,
   "metadata": {},
   "outputs": [],
   "source": [
    "sample_l1 = subsample_elements(np_l1)\n",
    "sample_alu = subsample_elements(np_alu)"
   ]
  },
  {
   "cell_type": "code",
   "execution_count": 27,
   "metadata": {},
   "outputs": [],
   "source": [
    "sample_l1.to_csv(f'{vardir}/subsample_refL1.bed', sep='\\t', index=False, header=None)\n",
    "sample_alu.to_csv(f'{vardir}/subsample_refAlu.bed', sep='\\t', index=False, header=None)"
   ]
  }
 ],
 "metadata": {
  "kernelspec": {
   "display_name": "allcools",
   "language": "python",
   "name": "python3"
  },
  "language_info": {
   "codemirror_mode": {
    "name": "ipython",
    "version": 3
   },
   "file_extension": ".py",
   "mimetype": "text/x-python",
   "name": "python",
   "nbconvert_exporter": "python",
   "pygments_lexer": "ipython3",
   "version": "3.12.5"
  }
 },
 "nbformat": 4,
 "nbformat_minor": 2
}
