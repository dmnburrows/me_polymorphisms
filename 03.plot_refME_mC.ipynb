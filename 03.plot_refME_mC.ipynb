{
 "cells": [
  {
   "cell_type": "markdown",
   "metadata": {},
   "source": [
    "# Step 3: Plot binned methylation around MEs"
   ]
  },
  {
   "cell_type": "code",
   "execution_count": 19,
   "metadata": {},
   "outputs": [],
   "source": [
    "import pandas as pd\n",
    "import numpy as np\n",
    "import cmasher as cmr\n",
    "import matplotlib as mpl\n",
    "import matplotlib.pyplot as plt\n",
    "import seaborn as sns\n",
    "import statsmodels.formula.api as smf\n",
    "from statsmodels.stats.multitest import fdrcorrection\n",
    "\n",
    "import sys\n",
    "# add path to src module - note this is not a Pythonic solution\n",
    "sys.path.insert(1, '../') \n",
    "\n",
    "from src import plot_mC\n",
    "\n",
    "mpl.rcParams['pdf.fonttype'] = 42\n",
    "# plt.rc('axes', labelsize=12)"
   ]
  },
  {
   "cell_type": "code",
   "execution_count": 20,
   "metadata": {},
   "outputs": [],
   "source": [
    "from warnings import filterwarnings\n",
    "filterwarnings(\"ignore\", category=pd.errors.SettingWithCopyWarning)"
   ]
  },
  {
   "cell_type": "code",
   "execution_count": 21,
   "metadata": {
    "tags": [
     "parameters"
    ]
   },
   "outputs": [],
   "source": [
    "feature = \"refAlu\"\n",
    "binsize = 20\n",
    "\n",
    "pdir = \"/home/AD/rkgadde/L1IP/mC_data/CZI/type\"\n",
    "outdir = \"/home/AD/rkgadde/L1IP/results/CZI/plots/reference\"\n",
    "\n",
    "ref_file = f\"{pdir}/vars/subsample_{feature}.bed\"\n",
    "fa = \"/home/AD/rkgadde/L1IP/RepeatMasker/hg38_noALT.fa.masked\""
   ]
  },
  {
   "cell_type": "code",
   "execution_count": 22,
   "metadata": {},
   "outputs": [],
   "source": [
    "if 'L1' in feature:\n",
    "    names = ['L1HS','L1PA2','L1PA3','L1PA4','L1PA5']\n",
    "    fl = 6000\n",
    "if 'Alu' in feature:\n",
    "    names = ['AluYb8','AluYa5','AluY','AluSx','AluJo']\n",
    "    fl = 300"
   ]
  },
  {
   "cell_type": "markdown",
   "metadata": {},
   "source": [
    "## Load data"
   ]
  },
  {
   "cell_type": "code",
   "execution_count": 23,
   "metadata": {},
   "outputs": [
    {
     "data": {
      "text/html": [
       "<div>\n",
       "<style scoped>\n",
       "    .dataframe tbody tr th:only-of-type {\n",
       "        vertical-align: middle;\n",
       "    }\n",
       "\n",
       "    .dataframe tbody tr th {\n",
       "        vertical-align: top;\n",
       "    }\n",
       "\n",
       "    .dataframe thead th {\n",
       "        text-align: right;\n",
       "    }\n",
       "</style>\n",
       "<table border=\"1\" class=\"dataframe\">\n",
       "  <thead>\n",
       "    <tr style=\"text-align: right;\">\n",
       "      <th></th>\n",
       "      <th>chrom</th>\n",
       "      <th>start</th>\n",
       "      <th>end</th>\n",
       "      <th>id</th>\n",
       "      <th>length</th>\n",
       "      <th>strand</th>\n",
       "      <th>subfamily</th>\n",
       "    </tr>\n",
       "  </thead>\n",
       "  <tbody>\n",
       "    <tr>\n",
       "      <th>0</th>\n",
       "      <td>chr5</td>\n",
       "      <td>118255287</td>\n",
       "      <td>118255594</td>\n",
       "      <td>AluSx_3230318</td>\n",
       "      <td>306</td>\n",
       "      <td>+</td>\n",
       "      <td>AluSx</td>\n",
       "    </tr>\n",
       "    <tr>\n",
       "      <th>1</th>\n",
       "      <td>chr1</td>\n",
       "      <td>159087573</td>\n",
       "      <td>159087870</td>\n",
       "      <td>AluSx_235927</td>\n",
       "      <td>299</td>\n",
       "      <td>-</td>\n",
       "      <td>AluSx</td>\n",
       "    </tr>\n",
       "    <tr>\n",
       "      <th>2</th>\n",
       "      <td>chr5</td>\n",
       "      <td>154434678</td>\n",
       "      <td>154434968</td>\n",
       "      <td>AluSx_3287082</td>\n",
       "      <td>295</td>\n",
       "      <td>+</td>\n",
       "      <td>AluSx</td>\n",
       "    </tr>\n",
       "    <tr>\n",
       "      <th>3</th>\n",
       "      <td>chr6</td>\n",
       "      <td>76811405</td>\n",
       "      <td>76811700</td>\n",
       "      <td>AluSx_3449453</td>\n",
       "      <td>299</td>\n",
       "      <td>-</td>\n",
       "      <td>AluSx</td>\n",
       "    </tr>\n",
       "    <tr>\n",
       "      <th>4</th>\n",
       "      <td>chr8</td>\n",
       "      <td>3541806</td>\n",
       "      <td>3542027</td>\n",
       "      <td>AluSx_3822382</td>\n",
       "      <td>297</td>\n",
       "      <td>+</td>\n",
       "      <td>AluSx</td>\n",
       "    </tr>\n",
       "  </tbody>\n",
       "</table>\n",
       "</div>"
      ],
      "text/plain": [
       "  chrom      start        end             id  length strand subfamily\n",
       "0  chr5  118255287  118255594  AluSx_3230318     306      +     AluSx\n",
       "1  chr1  159087573  159087870   AluSx_235927     299      -     AluSx\n",
       "2  chr5  154434678  154434968  AluSx_3287082     295      +     AluSx\n",
       "3  chr6   76811405   76811700  AluSx_3449453     299      -     AluSx\n",
       "4  chr8    3541806    3542027  AluSx_3822382     297      +     AluSx"
      ]
     },
     "execution_count": 23,
     "metadata": {},
     "output_type": "execute_result"
    }
   ],
   "source": [
    "ref_df = pd.read_csv(ref_file, sep='\\t', \n",
    "                     names=['chrom','start','end','id','length','strand','subfamily'])\n",
    "ref_df.head()"
   ]
  },
  {
   "cell_type": "code",
   "execution_count": 24,
   "metadata": {},
   "outputs": [
    {
     "data": {
      "text/plain": [
       "subfamily\n",
       "AluSx     1868\n",
       "AluJo     1868\n",
       "AluY      1868\n",
       "AluYb8    1868\n",
       "AluYa5    1868\n",
       "Name: count, dtype: int64"
      ]
     },
     "execution_count": 24,
     "metadata": {},
     "output_type": "execute_result"
    }
   ],
   "source": [
    "ref_df['subfamily'].value_counts()"
   ]
  },
  {
   "cell_type": "code",
   "execution_count": 25,
   "metadata": {},
   "outputs": [
    {
     "name": "stdout",
     "output_type": "stream",
     "text": [
      "CPU times: user 3min 51s, sys: 33.1 s, total: 4min 24s\n",
      "Wall time: 3min 59s\n"
     ]
    },
    {
     "data": {
      "text/html": [
       "<div>\n",
       "<style scoped>\n",
       "    .dataframe tbody tr th:only-of-type {\n",
       "        vertical-align: middle;\n",
       "    }\n",
       "\n",
       "    .dataframe tbody tr th {\n",
       "        vertical-align: top;\n",
       "    }\n",
       "\n",
       "    .dataframe thead th {\n",
       "        text-align: right;\n",
       "    }\n",
       "</style>\n",
       "<table border=\"1\" class=\"dataframe\">\n",
       "  <thead>\n",
       "    <tr style=\"text-align: right;\">\n",
       "      <th></th>\n",
       "      <th>id</th>\n",
       "      <th>bin</th>\n",
       "      <th>sample</th>\n",
       "      <th>celltype</th>\n",
       "      <th>mc</th>\n",
       "      <th>cov</th>\n",
       "      <th>ctxt</th>\n",
       "      <th>percent_mC</th>\n",
       "      <th>location</th>\n",
       "      <th>subfamily</th>\n",
       "    </tr>\n",
       "  </thead>\n",
       "  <tbody>\n",
       "    <tr>\n",
       "      <th>0</th>\n",
       "      <td>AluJo_214</td>\n",
       "      <td>-990</td>\n",
       "      <td>AF2</td>\n",
       "      <td>L6b_TLE4_NXPH4</td>\n",
       "      <td>2</td>\n",
       "      <td>26</td>\n",
       "      <td>mCH</td>\n",
       "      <td>7.692308</td>\n",
       "      <td>upstream</td>\n",
       "      <td>AluJo</td>\n",
       "    </tr>\n",
       "    <tr>\n",
       "      <th>1</th>\n",
       "      <td>AluJo_214</td>\n",
       "      <td>-970</td>\n",
       "      <td>AF2</td>\n",
       "      <td>L6b_TLE4_NXPH4</td>\n",
       "      <td>1</td>\n",
       "      <td>36</td>\n",
       "      <td>mCH</td>\n",
       "      <td>2.777778</td>\n",
       "      <td>upstream</td>\n",
       "      <td>AluJo</td>\n",
       "    </tr>\n",
       "    <tr>\n",
       "      <th>2</th>\n",
       "      <td>AluJo_214</td>\n",
       "      <td>-950</td>\n",
       "      <td>AF2</td>\n",
       "      <td>L6b_TLE4_NXPH4</td>\n",
       "      <td>1</td>\n",
       "      <td>18</td>\n",
       "      <td>mCH</td>\n",
       "      <td>5.555556</td>\n",
       "      <td>upstream</td>\n",
       "      <td>AluJo</td>\n",
       "    </tr>\n",
       "    <tr>\n",
       "      <th>3</th>\n",
       "      <td>AluJo_214</td>\n",
       "      <td>-930</td>\n",
       "      <td>AF2</td>\n",
       "      <td>L6b_TLE4_NXPH4</td>\n",
       "      <td>0</td>\n",
       "      <td>39</td>\n",
       "      <td>mCH</td>\n",
       "      <td>0.000000</td>\n",
       "      <td>upstream</td>\n",
       "      <td>AluJo</td>\n",
       "    </tr>\n",
       "    <tr>\n",
       "      <th>4</th>\n",
       "      <td>AluJo_214</td>\n",
       "      <td>-910</td>\n",
       "      <td>AF2</td>\n",
       "      <td>L6b_TLE4_NXPH4</td>\n",
       "      <td>0</td>\n",
       "      <td>27</td>\n",
       "      <td>mCH</td>\n",
       "      <td>0.000000</td>\n",
       "      <td>upstream</td>\n",
       "      <td>AluJo</td>\n",
       "    </tr>\n",
       "  </tbody>\n",
       "</table>\n",
       "</div>"
      ],
      "text/plain": [
       "          id  bin sample        celltype  mc  cov ctxt  percent_mC  location  \\\n",
       "0  AluJo_214 -990    AF2  L6b_TLE4_NXPH4   2   26  mCH    7.692308  upstream   \n",
       "1  AluJo_214 -970    AF2  L6b_TLE4_NXPH4   1   36  mCH    2.777778  upstream   \n",
       "2  AluJo_214 -950    AF2  L6b_TLE4_NXPH4   1   18  mCH    5.555556  upstream   \n",
       "3  AluJo_214 -930    AF2  L6b_TLE4_NXPH4   0   39  mCH    0.000000  upstream   \n",
       "4  AluJo_214 -910    AF2  L6b_TLE4_NXPH4   0   27  mCH    0.000000  upstream   \n",
       "\n",
       "  subfamily  \n",
       "0     AluJo  \n",
       "1     AluJo  \n",
       "2     AluJo  \n",
       "3     AluJo  \n",
       "4     AluJo  "
      ]
     },
     "execution_count": 25,
     "metadata": {},
     "output_type": "execute_result"
    }
   ],
   "source": [
    "%%time\n",
    "\n",
    "# Load the binned mC data\n",
    "df = pd.read_parquet(f'{pdir}/mC/binc-{binsize}.{feature}.all_samples.parquet.gz')\n",
    "\n",
    "df['percent_mC'] = (df['mc'] / df['cov']) * 100\n",
    "df.loc[df['bin'] < 0, 'location'] = 'upstream'\n",
    "df.loc[df['bin'] > 0, 'location'] = 'downstream'\n",
    "df['subfamily'] = df['id'].str.extract(r'(.*)_[0-9]+')\n",
    "\n",
    "df.head()"
   ]
  },
  {
   "cell_type": "code",
   "execution_count": 26,
   "metadata": {},
   "outputs": [],
   "source": [
    "# Get full-length and truncated (or transducted) variants\n",
    "fl_ids = ref_df[ref_df['length'] >= fl]['id'].unique()\n",
    "df_fl = df[df['id'].isin(fl_ids)]\n",
    "df_tr = df[~df['id'].isin(fl_ids)]"
   ]
  },
  {
   "cell_type": "code",
   "execution_count": 27,
   "metadata": {},
   "outputs": [],
   "source": [
    "# df_fam_all = df.groupby(['ctxt','celltype','location','bin','subfamily'])['percent_mC'].mean()\n",
    "# df_fam_fl = df_fl.groupby(['ctxt','celltype','location','bin','subfamily'])['percent_mC'].mean()\n",
    "# df_fam_tr = df_tr.groupby(['ctxt','celltype','location','bin','subfamily'])['percent_mC'].mean()"
   ]
  },
  {
   "cell_type": "code",
   "execution_count": 28,
   "metadata": {},
   "outputs": [],
   "source": [
    "df_fam_all = plot_mC.aggregate_mC_by_sum(df, ['ctxt','celltype','bin','subfamily'])\n",
    "df_fam_fl = plot_mC.aggregate_mC_by_sum(df_fl, ['ctxt','celltype','bin','subfamily'])\n",
    "df_fam_tr = plot_mC.aggregate_mC_by_sum(df_tr, ['ctxt','celltype','bin','subfamily'])"
   ]
  },
  {
   "cell_type": "code",
   "execution_count": 29,
   "metadata": {},
   "outputs": [],
   "source": [
    "# df_fam_sum.head()"
   ]
  },
  {
   "cell_type": "code",
   "execution_count": 30,
   "metadata": {},
   "outputs": [
    {
     "name": "stdout",
     "output_type": "stream",
     "text": [
      "Full-length:  5129\n",
      "All:  9338\n"
     ]
    }
   ],
   "source": [
    "print(\"Full-length: \", df_fl['id'].nunique())\n",
    "print(\"All: \", df['id'].nunique())"
   ]
  },
  {
   "cell_type": "markdown",
   "metadata": {},
   "source": [
    "## Plot mC for each subfamily"
   ]
  },
  {
   "cell_type": "code",
   "execution_count": 31,
   "metadata": {},
   "outputs": [],
   "source": [
    "if 'L1' in feature:\n",
    "    xlims = [(-1000, -binsize/2), (binsize/2, 1000)]\n",
    "    xticks = np.arange(-900,1080,180)\n",
    "\n",
    "if 'Alu' in feature:\n",
    "    xlims = [(-1000, -binsize/2), (binsize/2, 1000)]\n",
    "    xticks = np.arange(-900,1080,180)"
   ]
  },
  {
   "cell_type": "code",
   "execution_count": 32,
   "metadata": {},
   "outputs": [],
   "source": [
    "celltypes = df['celltype'].unique()\n",
    "contexts = df['ctxt'].unique()"
   ]
  },
  {
   "cell_type": "markdown",
   "metadata": {},
   "source": [
    "### Full-length variants"
   ]
  },
  {
   "cell_type": "code",
   "execution_count": 33,
   "metadata": {},
   "outputs": [],
   "source": [
    "for ctxt in contexts:\n",
    "    for ct in celltypes:\n",
    "        labels = {'xlabel': f'Position relative to {feature} element (bp)',\n",
    "                  'ylabel': f'%{ctxt}',\n",
    "                  'title': ct}\n",
    "        pdf = f'{outdir}/mC_by_subfamily/fl_{feature}_{ctxt}_{ct}_fam_bin{binsize}.pdf'\n",
    "        df_plot_fl = df_fam_fl.loc[ctxt, ct].reset_index()\n",
    "\n",
    "        fig = plot_mC.plot_mC_by_subfamily(df_plot_fl, names, xlims, xticks, labels, pdf)"
   ]
  },
  {
   "cell_type": "markdown",
   "metadata": {},
   "source": [
    "### Non-full-length variants"
   ]
  },
  {
   "cell_type": "code",
   "execution_count": 34,
   "metadata": {},
   "outputs": [],
   "source": [
    "for ct in celltypes:\n",
    "    for ctxt in contexts:\n",
    "        labels = {'xlabel': f'Position relative to {feature} element (bp)',\n",
    "                  'ylabel': f'%{ctxt}',\n",
    "                  'title': ct}\n",
    "        pdf = f'{outdir}/mC_by_subfamily/tr_{feature}_{ctxt}_{ct}_fam_bin{binsize}.pdf'\n",
    "        df_plot_tr = df_fam_tr.loc[ctxt, ct].reset_index()\n",
    "\n",
    "        fig = plot_mC.plot_mC_by_subfamily(df_plot_tr, names, xlims, xticks, labels, pdf)"
   ]
  },
  {
   "cell_type": "markdown",
   "metadata": {},
   "source": [
    "### All variants"
   ]
  },
  {
   "cell_type": "code",
   "execution_count": 35,
   "metadata": {},
   "outputs": [],
   "source": [
    "for ct in celltypes:\n",
    "    for ctxt in contexts:\n",
    "        labels = {'xlabel': f'Position relative to {feature} element (bp)',\n",
    "                  'ylabel': f'%{ctxt}',\n",
    "                  'title': ct}\n",
    "        pdf = f'{outdir}/mC_by_subfamily/all_{feature}_{ctxt}_{ct}_fam_bin{binsize}.pdf'\n",
    "        df_plot_all = df_fam_all.loc[ctxt, ct].reset_index()\n",
    "\n",
    "        fig = plot_mC.plot_mC_by_subfamily(df_plot_all, names, xlims, xticks, labels, pdf)"
   ]
  },
  {
   "cell_type": "markdown",
   "metadata": {},
   "source": [
    "## Test periodicity of each subfamily"
   ]
  },
  {
   "cell_type": "code",
   "execution_count": 36,
   "metadata": {},
   "outputs": [],
   "source": [
    "df_test = plot_mC.aggregate_mC_by_sum(df, ['ctxt','celltype','location','bin','subfamily'])\n",
    "df_res = plot_mC.test_periodicity(df_test, ['ctxt','celltype','location','subfamily'])\n",
    "df_res.to_csv(f'{outdir}/mC_period/{feature}_{ctxt}_fam_bin{binsize}.tsv', sep='\\t', index=None)"
   ]
  },
  {
   "cell_type": "code",
   "execution_count": 37,
   "metadata": {},
   "outputs": [],
   "source": [
    "for ct in celltypes:\n",
    "    for ctxt in contexts:\n",
    "        df_bar = df_res[(df_res['celltype'] == ct) & (df_res['ctxt'] == ctxt)]\n",
    "\n",
    "        ax = sns.barplot(df_bar, \n",
    "                    x='location', y='amplitude', \n",
    "                    order=['upstream', 'downstream'],\n",
    "                    hue='subfamily', \n",
    "                    hue_order=names, \n",
    "                    palette='viridis')\n",
    "        \n",
    "        sns.move_legend(ax, 'center left', bbox_to_anchor=(1,0.5))\n",
    "        plt.title(ct)\n",
    "\n",
    "        pdf = f'{outdir}/mC_period/{feature}_{ctxt}_{ct}_fam_bin{binsize}.pdf'\n",
    "        plt.savefig(pdf, transparent=True, bbox_inches='tight')\n",
    "        plt.close()"
   ]
  },
  {
   "cell_type": "markdown",
   "metadata": {},
   "source": [
    "## Rank all MEs by sequence length"
   ]
  },
  {
   "cell_type": "markdown",
   "metadata": {},
   "source": [
    "Whereas the above analysis only splits MEs into full-length and not full-length, here we take a closer look at differences in methylation based on sequence length."
   ]
  },
  {
   "cell_type": "code",
   "execution_count": 20,
   "metadata": {},
   "outputs": [],
   "source": [
    "df_len = ref_df[['id', 'subfamily', 'length']].copy()\n",
    "df_len['quantile'] = df_len.groupby('subfamily')['length'].transform(lambda x: pd.qcut(x, 6))"
   ]
  },
  {
   "cell_type": "code",
   "execution_count": 21,
   "metadata": {},
   "outputs": [],
   "source": [
    "df_quant = df.merge(df_len)"
   ]
  },
  {
   "cell_type": "code",
   "execution_count": 22,
   "metadata": {},
   "outputs": [],
   "source": [
    "df_quant = plot_mC.aggregate_mC_by_sum(df_quant, ['ctxt','celltype','location','bin','subfamily','quantile'])"
   ]
  },
  {
   "cell_type": "code",
   "execution_count": 23,
   "metadata": {},
   "outputs": [],
   "source": [
    "df_quant = df_quant.reset_index()\n",
    "df_quant = df_quant.rename(columns={'quantile': 'length'})"
   ]
  },
  {
   "cell_type": "code",
   "execution_count": 24,
   "metadata": {},
   "outputs": [],
   "source": [
    "# dfq = plot_mC.aggregate_mC_by_quantile(df, ref_df, 'length', 8)\n",
    "\n",
    "for ctype in celltypes:\n",
    "    for fam in names:\n",
    "        df_hm = df_quant[(df_quant['celltype'] == ct) & (df_quant['subfamily'] == fam)]\n",
    "        fn = f'{outdir}/mC_by_length/{feature}_mCH_{ctype}_{fam}_len_rank_bin{binsize}.pdf'\n",
    "\n",
    "        hm = df_hm[(df_hm['bin'] >= -1000) & (df_hm['bin'] < 1000)]\n",
    "        hm = hm.pivot_table(index='length', \n",
    "                            columns='bin', \n",
    "                            values='percent_mC',\n",
    "                            observed=False)\n",
    "\n",
    "        scale_min = np.floor(min(hm.min()))\n",
    "        scale_max = np.ceil(max(hm.max()))\n",
    "        \n",
    "        plt.figure(figsize=(12,6))\n",
    "        ax = sns.heatmap(hm, \n",
    "                        vmin=scale_min, \n",
    "                        vmax=scale_max, \n",
    "                        cmap=cmr.torch,\n",
    "                        xticklabels=10, \n",
    "                        cbar_kws={'label': '%mC', 'ticks': [scale_min, scale_max]})\n",
    "        \n",
    "        intvs = list(hm.index)\n",
    "        yticks = [int(np.ceil(i.mid)) for i in intvs]\n",
    "        ax.set_yticklabels(labels=yticks, rotation=0)\n",
    "\n",
    "        ax.set_xlabel(f'Position relative to L1 element (bp)', labelpad=15)\n",
    "        ax.set_ylabel('Length of L1 (bp)', labelpad=15);\n",
    "\n",
    "        plt.savefig(fn, transparent=True, bbox_inches='tight')\n",
    "        plt.close()\n",
    "        \n",
    "        # ax = plot_mC.plot_mC_by_ME_length(df_hm, fn=fn, bound=1000, bs=binsize, me=feature)"
   ]
  },
  {
   "cell_type": "code",
   "execution_count": 26,
   "metadata": {},
   "outputs": [],
   "source": [
    "df_res = plot_mC.test_periodicity(df_quant, ['ctxt','celltype','location','subfamily','length'])\n",
    "df_res.to_csv(f'{outdir}/mC_period/{feature}_{ctxt}_quant_bin{binsize}.tsv', sep='\\t', index=None)"
   ]
  }
 ],
 "metadata": {
  "kernelspec": {
   "display_name": "allcools",
   "language": "python",
   "name": "python3"
  },
  "language_info": {
   "codemirror_mode": {
    "name": "ipython",
    "version": 3
   },
   "file_extension": ".py",
   "mimetype": "text/x-python",
   "name": "python",
   "nbconvert_exporter": "python",
   "pygments_lexer": "ipython3",
   "version": "3.12.5"
  }
 },
 "nbformat": 4,
 "nbformat_minor": 2
}
