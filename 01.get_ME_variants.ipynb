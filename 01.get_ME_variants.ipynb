{
 "cells": [
  {
   "cell_type": "markdown",
   "metadata": {},
   "source": [
    "# Step 1: Filter MEVs from MEGAnE"
   ]
  },
  {
   "cell_type": "markdown",
   "metadata": {},
   "source": [
    "Given MEGAnE joint callsets, this notebook implements a series of tests for quality control and outputs the MEVs that pass QC to be used in downstream analyses."
   ]
  },
  {
   "cell_type": "code",
   "execution_count": 49,
   "metadata": {},
   "outputs": [],
   "source": [
    "import os\n",
    "import pandas as pd\n",
    "import matplotlib.pyplot as plt\n",
    "import seaborn as sns\n",
    "from pysam import VariantFile\n",
    "\n",
    "import sys\n",
    "# add path to src module - note this is not a Pythonic solution\n",
    "sys.path.insert(1, '../') \n",
    "\n",
    "from src import parse_vcf"
   ]
  },
  {
   "cell_type": "code",
   "execution_count": 50,
   "metadata": {},
   "outputs": [],
   "source": [
    "from warnings import filterwarnings\n",
    "filterwarnings(\"ignore\", category=pd.errors.DtypeWarning)\n",
    "filterwarnings(\"ignore\", category=pd.errors.SettingWithCopyWarning)"
   ]
  },
  {
   "cell_type": "markdown",
   "metadata": {},
   "source": [
    "## Load data"
   ]
  },
  {
   "cell_type": "code",
   "execution_count": 51,
   "metadata": {
    "tags": [
     "parameters"
    ]
   },
   "outputs": [],
   "source": [
    "abs_vcf = '/home/AD/rkgadde/L1IP/megane/joint_calling/CZI/CZI_MEA_jointcall.vcf'\n",
    "ins_vcf = '/home/AD/rkgadde/L1IP/megane/joint_calling/CZI/CZI_MEI_jointcall.vcf'\n",
    "\n",
    "me_type = 'L1'\n",
    "rmsk_bed = f'/home/AD/rkgadde/L1IP/RepeatMasker/hg38_noALT.{me_type}.merged.bed'\n",
    "\n",
    "outdir = '/home/AD/rkgadde/L1IP/mC_data/CZI/type/vars'"
   ]
  },
  {
   "cell_type": "code",
   "execution_count": 52,
   "metadata": {},
   "outputs": [
    {
     "name": "stderr",
     "output_type": "stream",
     "text": [
      "[W::bcf_hrec_check] Invalid tag name: \"0START\"\n",
      "[W::bcf_hrec_check] Invalid tag name: \"0END\"\n",
      "[W::bcf_hrec_check] Invalid tag name: \"0START\"\n",
      "[W::bcf_hrec_check] Invalid tag name: \"0END\"\n"
     ]
    }
   ],
   "source": [
    "abs_vf = VariantFile(abs_vcf)\n",
    "ins_vf = VariantFile(ins_vcf)"
   ]
  },
  {
   "cell_type": "code",
   "execution_count": 53,
   "metadata": {},
   "outputs": [
    {
     "name": "stderr",
     "output_type": "stream",
     "text": [
      "[W::vcf_parse_filter] FILTER 'SD' is not defined in the header\n"
     ]
    }
   ],
   "source": [
    "# Load both types of variants\n",
    "abs_df = parse_vcf.load_vcf(abs_vf, me_type, 'abs')\n",
    "ins_df = parse_vcf.load_vcf(ins_vf, me_type, 'ins')"
   ]
  },
  {
   "cell_type": "markdown",
   "metadata": {},
   "source": [
    "## Clean data"
   ]
  },
  {
   "cell_type": "markdown",
   "metadata": {},
   "source": [
    "Implement filters to ensure only high-quality variants are output."
   ]
  },
  {
   "cell_type": "code",
   "execution_count": 54,
   "metadata": {},
   "outputs": [],
   "source": [
    "# Keep only autosomes\n",
    "abs_df = abs_df[(abs_df['chrom'] != 'chrX') & (abs_df['chrom'] != 'chrY')]\n",
    "ins_df = ins_df[(ins_df['chrom'] != 'chrX') & (ins_df['chrom'] != 'chrY')]"
   ]
  },
  {
   "cell_type": "code",
   "execution_count": 55,
   "metadata": {},
   "outputs": [],
   "source": [
    "samples = [s for s in abs_vf.header.samples]"
   ]
  },
  {
   "cell_type": "code",
   "execution_count": 56,
   "metadata": {},
   "outputs": [],
   "source": [
    "# Calculate number of variants per individual\n",
    "num_abs_raw = parse_vcf.get_num_vars_per_donor(samples, abs_df, 'abs')\n",
    "num_ins_raw = parse_vcf.get_num_vars_per_donor(samples, ins_df, 'ins')\n",
    "num_vars_raw = pd.concat([num_abs_raw, num_ins_raw])\n",
    "num_vars_raw['Filter'] = 'Raw'"
   ]
  },
  {
   "cell_type": "code",
   "execution_count": 57,
   "metadata": {},
   "outputs": [],
   "source": [
    "# Calculate number of donors per variant\n",
    "num_donors_raw_abs = parse_vcf.get_num_donors_per_var(abs_df, 'abs')\n",
    "num_donors_raw_ins = parse_vcf.get_num_donors_per_var(ins_df, 'ins')\n",
    "num_donors_raw = pd.concat([num_donors_raw_abs, num_donors_raw_ins])\n",
    "num_donors_raw['Filter'] = 'Raw'"
   ]
  },
  {
   "cell_type": "code",
   "execution_count": 58,
   "metadata": {},
   "outputs": [
    {
     "name": "stdout",
     "output_type": "stream",
     "text": [
      "Before filter:  175\n",
      "After filter:  170\n",
      "Before filter:  520\n",
      "After filter:  459\n"
     ]
    }
   ],
   "source": [
    "# Filter by PASS\n",
    "abs_df = parse_vcf.filter_by_pass(abs_df)\n",
    "ins_df = parse_vcf.filter_by_pass(ins_df)"
   ]
  },
  {
   "cell_type": "code",
   "execution_count": 59,
   "metadata": {},
   "outputs": [
    {
     "name": "stdout",
     "output_type": "stream",
     "text": [
      "125\n"
     ]
    }
   ],
   "source": [
    "# Additional quality filtering for absences\n",
    "rmsk_df = pd.read_csv(rmsk_bed, sep='\\t', names=['chrom', 'start', 'end', 'name', 'score', 'strand'])\n",
    "abs_df = parse_vcf.filter_absence(abs_df, rmsk_df)"
   ]
  },
  {
   "cell_type": "code",
   "execution_count": 60,
   "metadata": {},
   "outputs": [
    {
     "name": "stdout",
     "output_type": "stream",
     "text": [
      "316\n"
     ]
    }
   ],
   "source": [
    "# Additional quality filtering for insertions\n",
    "ins_df = parse_vcf.filter_insertion(ins_df)"
   ]
  },
  {
   "cell_type": "code",
   "execution_count": 61,
   "metadata": {},
   "outputs": [
    {
     "name": "stdout",
     "output_type": "stream",
     "text": [
      "125\n",
      "316\n"
     ]
    }
   ],
   "source": [
    "# Filter by ME family\n",
    "abs_df = parse_vcf.filter_by_mei(abs_df, me_type)\n",
    "ins_df = parse_vcf.filter_by_mei(ins_df, me_type)"
   ]
  },
  {
   "cell_type": "code",
   "execution_count": 62,
   "metadata": {},
   "outputs": [
    {
     "name": "stdout",
     "output_type": "stream",
     "text": [
      "Before filter:  125\n",
      "After filter:  124\n",
      "Before filter:  316\n",
      "After filter:  315\n"
     ]
    }
   ],
   "source": [
    "# Filter by length\n",
    "abs_df = parse_vcf.filter_by_length(abs_df, 80)\n",
    "ins_df = parse_vcf.filter_by_length(ins_df, 80)"
   ]
  },
  {
   "cell_type": "code",
   "execution_count": 31,
   "metadata": {},
   "outputs": [
    {
     "name": "stdout",
     "output_type": "stream",
     "text": [
      "['AluYg6' 'AluYb8' 'AluYc' 'AluYa5' 'AluY' 'AluYe5' 'AluYk12' 'AluSc'\n",
      " 'AluYb9' 'AluYa8' 'AluYd8' 'AluYh7' 'AluYk2' 'AluYk3' 'AluSx' 'AluYj4'\n",
      " 'AluYi6' 'AluSz' 'AluYi6_4d' 'AluYk11' 'AluYh9' 'AluSc8' 'AluYh3'\n",
      " 'AluSx1' 'AluSg7' 'AluSq10' 'AluSx4']\n",
      "['AluYa5|AluYa8' 'AluYb8|AluYb9' 'AluYb8' 'AluYb9' 'AluYa8|AluYa5'\n",
      " 'AluYj4' 'AluYb9|AluYb8' 'AluY|AluYi6_4d|AluYk3|AluYm1' 'AluYh3|AluYh9'\n",
      " 'AluYa5' 'AluYe5|AluYe6' 'AluYa5|AluYa8|AluY|AluYc|AluYf1|AluYh3'\n",
      " 'AluSc8|AluY|AluYf1|AluYj4|AluYk3' 'AluYg6' 'AluSc' 'AluYh3'\n",
      " 'AluSc5|AluSc8|AluY|AluYa5|AluYa8|AluYc|AluYe5|AluYe6|AluYf1|AluYj4|AluYk2|AluYk3|AluYk4'\n",
      " 'AluYj4|AluYh3|AluYf1|AluYe5|AluYe6|AluYk2|AluYk3|AluYk4|AluYk12|AluSc8|AluY'\n",
      " 'AluSc8|AluY|AluYf1|AluYj4|AluYk2|AluYk3'\n",
      " 'AluYj4|AluYf1|AluYi6_4d|AluYe5|AluYi6|AluYe6|AluYk2|AluYm1|AluYk3|AluYk4|AluYk12|AluSc8|AluY'\n",
      " 'AluY|AluYm1'\n",
      " 'AluYj4|AluYf1|AluYe5|AluYe6|AluYk2|AluYk3|AluYk4|AluYk12|AluSc8|AluY'\n",
      " 'AluYa5|AluYa8|AluSc8|AluY|AluYc|AluYf1|AluYk2|AluYk3'\n",
      " 'AluYa5|AluYa8|AluY|AluYc|AluYf1' 'AluYa8' 'AluYk2|AluYh9'\n",
      " 'AluSc8|AluSg|AluSg4|AluSg7|AluSx|AluSx1|AluSx3|AluSx4|AluSz'\n",
      " 'AluSc5|AluSc8|AluY|AluYa5|AluYa8|AluYc|AluYf1|AluYj4|AluYk3'\n",
      " 'AluSc8|AluY|AluYa5|AluYa8|AluYf1|AluYk3' 'AluYf1|AluY'\n",
      " 'AluSc8|AluY|AluYa5|AluYa8|AluYf1|AluYj4|AluYk3' 'AluYe5' 'AluYd8'\n",
      " 'AluSc8|AluY|AluYf1|AluYh3|AluYj4|AluYk3'\n",
      " 'AluSc8|AluY|AluYf1|AluYj4|AluYk2|AluYk3|AluYk4' 'AluY|AluYf1' 'AluYc3'\n",
      " 'AluY|AluYc|AluYf1|AluYk3|AluYa5|AluYa8'\n",
      " 'AluYj4|AluYf1|AluYk3|AluSc8|AluY' 'AluSc8|AluY|AluYf1' 'AluYi6'\n",
      " 'AluY|AluYc|AluYc3|AluYf1|AluYh3' 'AluSc8|AluY|AluYf1|AluYk3'\n",
      " 'AluSq|AluSq10|AluSq2|AluSx|AluSx1' 'AluYk2|AluSc8|AluY|AluYf1'\n",
      " 'AluSc8|AluY|AluYe5|AluYe6|AluYf1|AluYj4|AluYk2|AluYk3|AluYk4' 'AluSz6'\n",
      " 'AluSp' 'AluYf1|AluSc8|AluY' 'AluY|AluYc|AluYf1|AluYm1'\n",
      " 'AluYb9|AluYb8|AluSg7|AluSg4' 'AluY|AluYc|AluYf1'\n",
      " 'AluYi6|AluYi6_4d|AluYb9|AluYb8' 'AluSp|AluSq|AluSq4'\n",
      " 'AluY|AluYc3|AluYh3|AluYm1'\n",
      " 'AluSc8|AluY|AluYf1|AluYj4|AluYk2|AluYk3|AluYm1'\n",
      " 'AluSc8|AluSg|AluSg4|AluSg7|AluSx|AluSx1|AluSx3|AluSx4|AluSz|AluY|AluYc|AluYf1|AluYh3|AluYk3|AluYa5|AluYa8'\n",
      " 'AluY|AluYc|AluYf1|AluYh3|AluYh7|AluYk3|AluYa8|AluYa5'\n",
      " 'AluYk2|AluYk4|AluYc|AluYb8' 'AluSq2' 'AluYk2' 'AluY|AluYf1|AluYm1'\n",
      " 'AluYh9'\n",
      " 'AluYj4|AluYf1|AluYe5|AluYe6|AluYk2|AluYk3|AluYk4|AluYk12|AluYa8|AluYa5|AluSc8|AluY'\n",
      " 'AluYj4|AluYh3|AluYf1|AluYe5|AluYe6|AluYk2|AluYk3|AluYk4|AluYk12|AluYa8|AluYa5|AluSc8|AluY'\n",
      " 'AluY|AluYc|AluYf1|AluYh3|AluYb8|AluYb9'\n",
      " 'AluSc8|AluY|AluYe5|AluYe6|AluYf1|AluYj4|AluYk12|AluYk2|AluYk3|AluYk4'\n",
      " 'AluYk11' 'AluYj4|AluYf1|AluYk2|AluYk3|AluYk4|AluSc8|AluY'\n",
      " 'AluY|AluYa5|AluYc|AluYf1|AluYh3|AluYm1' 'AluSc8'\n",
      " 'AluYa5|AluYk2|AluYk4|AluYk11|AluYc|AluYb8'\n",
      " 'AluYj4|AluYf1|AluYe5|AluYe6|AluYk2|AluYk3|AluYk4|AluSc8|AluY'\n",
      " 'AluYj4|AluYm1|AluYk3|AluSc8|AluY'\n",
      " 'AluY|AluYc|AluYc3|AluYf1|AluYh3|AluYm1'\n",
      " 'AluYj4|AluYf1|AluYe5|AluYe6|AluYk2|AluYk3|AluYk4|AluYk12|AluSc8|AluY|AluYa5'\n",
      " 'AluYk12' 'AluSc8|AluY|AluYc|AluYf1' 'AluY|AluYf1|AluYk2'\n",
      " 'AluYf1|AluYm1|AluYk3|AluSc8|AluY' 'AluSc8|AluY|AluYj4|AluYk3|AluYm1'\n",
      " 'AluSc8|AluY|AluYa5|AluYa8|AluYf1|AluYj4|AluYk2|AluYk3|AluYk4'\n",
      " 'AluYc|AluYk2|AluYk4' 'AluSg|AluSq|AluSq10|AluSq2|AluSx|AluSx1|AluSz'\n",
      " 'AluYb8|AluYb9|AluY|AluYf1' 'AluSz' 'AluSq|AluSx|AluSx1'\n",
      " 'AluY|AluYc|AluYf1|AluYh3|AluYk3|AluYa5|AluYa8'\n",
      " 'AluYk2|AluYk4|AluYk11|AluYc|AluYb8'\n",
      " 'AluSc5|AluSc8|AluSg4|AluSg7|AluY|AluYa5|AluYa8|AluYb8|AluYb9|AluYc|AluYf1|AluYj4|AluYk3'\n",
      " 'AluSp|AluSq|AluSq2|AluSq4' 'AluY|AluYc|AluYf1|AluYh3'\n",
      " 'AluY|AluYf1|AluYk3' 'AluYf1|AluYk2|AluSc8|AluY' 'AluYk4'\n",
      " 'AluSg|AluSx|AluSz' 'AluYi6|AluYi6_4d|AluYb8|AluYb9' 'AluSq10'\n",
      " 'AluYf1|AluYm1|AluSc8|AluY' 'AluSg|AluSx3|AluSx4'\n",
      " 'AluYj4|AluYf1|AluYe5|AluYe6|AluYk2|AluYk3|AluYk4|AluYk12|AluYk11|AluYd8|AluYc|AluYa8|AluYa5|AluSc8|AluSc5|AluY'\n",
      " 'AluSc8|AluY|AluYf1|AluYj4|AluYk3|AluYm1' 'AluSp|AluSq2'\n",
      " 'AluYe5|AluYe6|AluYj4|AluYk12' 'AluY|AluYk3|AluYm1' 'AluYd8|AluYc'\n",
      " 'AluYh3|AluYf1|AluYm1|AluYk3|AluYc3|AluYc|AluY'\n",
      " 'AluY|AluYc|AluYf1|AluYh3|AluYk3|AluYm1'\n",
      " 'AluYj4|AluYi6_4d|AluYm1|AluYk3|AluYk12|AluSc8|AluY' 'AluYi6|AluYi6_4d'\n",
      " 'AluYj4|AluYf1|AluYe5|AluYe6|AluYk2|AluYk3|AluYk4|AluYk12|AluYb9|AluYb8|AluSc8|AluSc5|AluY'\n",
      " 'AluYj4|AluYf1|AluYe5|AluYe6|AluYk2|AluYk3|AluYk4|AluYk12|AluSc8|AluSc5|AluY'\n",
      " 'AluYi6_4d|AluYm1|AluYk3|AluY' 'AluSc8|AluY|AluYf1|AluYk2'\n",
      " 'AluSc8|AluY|AluYm1' 'AluYa5|AluYa8|AluYc' 'AluYi6_4d'\n",
      " 'AluYa5|AluYa8|AluY|AluYc|AluYc3|AluYf1|AluYh3|AluYk3' 'AluYc|AluYd8'\n",
      " 'AluSc8|AluY|AluYf1|AluYj4'\n",
      " 'AluYj4|AluYf1|AluYe5|AluYe6|AluYk2|AluYk3|AluYk4|AluYk12|AluYd8|AluYc|AluYa8|AluYa5|AluSc8|AluSc5|AluY'\n",
      " 'AluSc8|AluY|AluYa5|AluYa8|AluYc|AluYf1|AluYj4|AluYk3'\n",
      " 'AluYh3|AluYf1|AluYm1|AluYc3|AluYc|AluY' 'AluY|AluYj4|AluYk3|AluYm1'\n",
      " 'AluSc8|AluSg|AluSg4|AluSg7|AluSx|AluSx1|AluSx3|AluSx4|AluSz|AluYa5|AluYa8'\n",
      " 'AluSg|AluSx3'\n",
      " 'AluYj4|AluYf1|AluYe5|AluYe6|AluYk2|AluYk3|AluYk4|AluYk12|AluYa8|AluYa5|AluSc8|AluSc5|AluY'\n",
      " 'AluYc' 'AluYj4|AluYf1|AluYk3|AluYa8|AluYa5|AluSc8|AluY'\n",
      " 'AluYf1|AluYk2|AluY'\n",
      " 'AluSc8|AluY|AluYa5|AluYa8|AluYf1|AluYh3|AluYj4|AluYk3|AluYk4'\n",
      " 'AluSc8|AluY|AluYe5|AluYe6|AluYf1|AluYj4|AluYk3'\n",
      " 'AluY|AluYc|AluYf1|AluYh3|AluYm1' 'AluYi6_4d|AluYi6' 'AluSx4'\n",
      " 'AluY|AluYh3|AluYm1' 'AluYc|AluYc3' 'AluYh3|AluYm1|AluY' 'AluYh7'\n",
      " 'AluSc5' 'AluY|AluYc|AluYf1|AluYk3|AluYm1'\n",
      " 'AluYj4|AluYf1|AluYe5|AluYe6|AluYk2|AluYk3|AluYk4|AluYk12|AluYd8|AluYc|AluYa8|AluYa5|AluSz6|AluSz|AluSx4|AluSx3|AluSx1|AluSx|AluSq4|AluSq2|AluSq10|AluSq|AluSp|AluSg|AluSc8|AluSc5|AluSc|AluY'\n",
      " 'AluSg7'\n",
      " 'AluYj4|AluYf1|AluYe5|AluYe6|AluYk2|AluYk3|AluYk4|AluYk12|AluYb9|AluYb8|AluSc8|AluY'\n",
      " 'AluYf1|AluYk3|AluYc|AluSc8|AluY' 'AluYh7|AluSz6|AluYg6'\n",
      " 'AluSc8|AluY|AluYf1|AluYk12|AluYk4' 'AluJb|AluJo|AluJr'\n",
      " 'AluYa8|AluYa5|AluYe5|AluYe6'\n",
      " 'AluSc8|AluSg|AluSg4|AluSg7|AluSx|AluSx1|AluSx3|AluSx4|AluSz|AluY|AluYa5|AluYa8|AluYc|AluYc3|AluYf1|AluYh3|AluYh7|AluYj4|AluYk3|AluYi6_4d'\n",
      " 'AluSz|AluSz6' 'AluY|AluYj4|AluYk3' 'AluSz6|AluYa5|AluYa8'\n",
      " 'AluSz6|AluY|AluYc|AluYf1'\n",
      " 'AluSc8|AluSg|AluSg4|AluSg7|AluSx|AluSx1|AluSx3|AluSx4|AluSz|AluY|AluYc|AluYc3|AluYd8|AluYf1|AluYh3|AluYa5|AluYa8'\n",
      " 'AluSc8|AluSg|AluSx3|AluSx4|AluY|AluYa5|AluYa8|AluYc|AluYf1|AluYj4|AluYk3'\n",
      " 'AluSq4' 'AluYe5|AluYe6|AluYa8|AluYa5'\n",
      " 'AluSc8|AluSg|AluSx3|AluSx4|AluYa5|AluYa8'\n",
      " 'AluSc8|AluSg|AluSx|AluSx1|AluSx3|AluSx4|AluSz'\n",
      " 'AluSc8|AluY|AluYc|AluYf1|AluYk2|AluYk3' 'AluSc8|AluY|AluYf1|AluYh3'\n",
      " 'AluSc8|AluY|AluYe5|AluYe6|AluYf1|AluYi6|AluYi6_4d|AluYj4|AluYk2|AluYk3|AluYm1'\n",
      " 'AluJb|AluSc8|AluSg|AluSg4|AluSg7|AluSx|AluSx1|AluSx3|AluSx4|AluSz|AluY|AluYa5|AluYa8|AluYc|AluYf1|AluYh3|AluYh7|AluYh9|AluYj4|AluYk3|AluYg6'\n",
      " 'AluSc8|AluY|AluYe5|AluYe6|AluYf1|AluYi6|AluYi6_4d|AluYj4|AluYk12|AluYk2|AluYk3|AluYk4|AluYm1'\n",
      " 'AluYj4|AluYf1|AluYe5|AluYe6|AluYk2|AluYk3|AluYk4|AluYk12|AluYd8|AluYc|AluYa8|AluYa5|AluSc8|AluSc5|AluSc|AluY'\n",
      " 'AluSg|AluSx|AluSx3|AluSz'\n",
      " 'AluSc8|AluY|AluYc|AluYf1|AluYh3|AluYh7|AluYk3|AluYm1|AluYa5'\n",
      " 'AluY|AluYf1|AluSz6' 'AluSz6|AluY|AluYc|AluYf1|AluYh3'\n",
      " 'AluSc8|AluY|AluYa5|AluYa8|AluYe5|AluYe6|AluYf1|AluYj4|AluYk12|AluYk2|AluYk3|AluYk4'\n",
      " 'AluSc8|AluY|AluYe5|AluYe6|AluYf1|AluYi6|AluYi6_4d|AluYj4|AluYk2|AluYk3|AluYk4|AluYm1'\n",
      " 'AluSc8|AluY|AluYf1|AluYj4|AluYk12|AluYk2|AluYk3|AluYk4'\n",
      " 'AluYj4|AluYf1|AluYe5|AluYe6|AluYk2|AluYk3|AluYk4|AluYk12|AluSc8|AluY|AluYh9'\n",
      " 'AluYm1|AluY' 'AluY|AluYc|AluYf1|AluYh3|AluYk3'\n",
      " 'AluSg|AluSx|AluSx1|AluSx3|AluSz'\n",
      " 'AluYh9|AluYj4|AluYf1|AluYe5|AluYe6|AluYk2|AluYk3|AluYk4|AluYk12|AluSc8|AluY'\n",
      " 'AluSc8|AluY|AluYf1|AluYj4|AluYk3|AluYk4' 'AluYh9|AluYa8|AluYa5'\n",
      " 'AluYh7|AluYj4|AluYh3|AluYf1|AluYe5|AluYe6|AluYk2|AluYk3|AluYk4|AluYk12|AluSc8|AluY'\n",
      " 'AluYe5|AluYe6|AluSc8|AluY|AluYf1|AluYj4|AluYk3' 'AluYf1|AluYe5'\n",
      " 'AluY|AluYh3|AluYk3|AluYm1' 'AluYj4|AluYf1|AluYk2|AluYk3|AluSc8|AluY'\n",
      " 'AluSx3' 'AluYb8|AluYb9|AluSx3'\n",
      " 'AluYj4|AluYf1|AluYk3|AluYc|AluYb9|AluYb8|AluYa8|AluYa5|AluSz|AluSx4|AluSx3|AluSx1|AluSx|AluSg7|AluSg4|AluSg|AluSc8|AluY'\n",
      " 'AluSc5|AluSc8|AluY|AluYf1|AluYj4|AluYk3'\n",
      " 'AluYj4|AluYf1|AluYk3|AluYc|AluYa8|AluYa5|AluSz|AluSx4|AluSx3|AluSx1|AluSx|AluSg|AluSc8|AluY'\n",
      " 'AluY|AluYc|AluYc3|AluYf1|AluYh3|AluYk3'\n",
      " 'AluYj4|AluYi6_4d|AluYm1|AluYk3|AluY' 'AluYa8|AluYa5|AluSq10'\n",
      " 'AluYh7|AluYj4|AluYf1|AluYe5|AluYe6|AluYk2|AluYk3|AluYk4|AluYk12|AluSc8|AluY'\n",
      " 'AluYf1|AluYk3|AluSc8|AluY' 'AluYh3|AluYf1|AluYm1|AluYk3|AluYc|AluY'\n",
      " 'AluSc8|AluSg|AluSg4|AluSg7|AluSx|AluSx1|AluSx3|AluSx4|AluSz|AluY|AluYa5|AluYa8|AluYc|AluYf1|AluYj4|AluYk3'\n",
      " 'AluSc8|AluY|AluYf1|AluYj4|AluYk12|AluYk3'\n",
      " 'AluY|AluYk3|AluYm1|AluYb8|AluYb9' 'AluSc|AluSc5'\n",
      " 'AluSc8|AluSg|AluSg4|AluSg7|AluSx|AluSx1|AluSx3|AluSx4|AluSz|AluY|AluYc|AluYf1|AluYh3'\n",
      " 'AluY|AluYa5|AluYa8|AluYc|AluYf1|AluYb8|AluYb9' 'AluSg4|AluSg7'\n",
      " 'AluSx4|AluSx3|AluSg' 'AluSg4' 'AluY|AluYa5|AluYa8|AluYc|AluYf1|AluYh3'\n",
      " 'AluSz6|AluYj4|AluYf1|AluYe5|AluYe6|AluYk2|AluYk3|AluYk4|AluYk12|AluSc8|AluY'\n",
      " 'AluYb8|AluYb9|AluYh3|AluYh9' 'AluY|AluYi6_4d|AluYk12|AluYk3|AluYm1'\n",
      " 'AluYj4|AluYk2'\n",
      " 'AluSc8|AluY|AluYa5|AluYa8|AluYe5|AluYe6|AluYf1|AluYj4|AluYk2|AluYk3|AluYk4'\n",
      " 'AluY|AluYf1|AluYh3'\n",
      " 'AluYj4|AluYf1|AluYe5|AluYe6|AluYk2|AluYm1|AluYk3|AluYk4|AluYk12|AluSc8|AluY'\n",
      " 'AluSc8|AluY|AluYf1|AluYj4|AluYk3|AluYa5|AluYa8'\n",
      " 'AluYj4|AluYf1|AluYe5|AluYe6|AluYk2|AluYk3|AluYk4|AluYk12|AluYd8|AluYc|AluYa8|AluYa5|AluSx4|AluSx3|AluSq4|AluSg|AluSc8|AluSc5|AluSc|AluY'\n",
      " 'AluSc8|AluY|AluYc|AluYf1|AluYh3|AluYj4|AluYk3' 'AluYm1|AluYk3|AluY'\n",
      " 'AluYa5|AluYa8|AluYk2|AluYk4' 'AluYm1|AluYk3|AluYb9|AluYb8|AluY'\n",
      " 'AluSx|AluSx1' 'AluY|AluYf1|AluYj4'\n",
      " 'AluSc8|AluY|AluYf1|AluYj4|AluYk2|AluYk3|AluYe5|AluYe6'\n",
      " 'AluYi6_4d|AluYm1|AluYk3|AluYd8|AluYa5|AluY' 'AluJb'\n",
      " 'AluSc5|AluSc8|AluY|AluYe5|AluYe6|AluYf1|AluYj4|AluYk12|AluYk2|AluYk3|AluYk4'\n",
      " 'AluYj4|AluYf1|AluYe5|AluYe6|AluYk2|AluYk3|AluYg6|AluYk4|AluYk12|AluSc8|AluY'\n",
      " 'AluYk4|AluYk2'\n",
      " 'AluYj4|AluYh3|AluYf1|AluYe5|AluYe6|AluYk2|AluYk3|AluYk4|AluYk12|AluYh9|AluYd8|AluYc|AluYb9|AluYb8|AluYa8|AluYa5|AluSx4|AluSx3|AluSq4|AluSg|AluSc8|AluSc5|AluSc|AluY'\n",
      " 'AluYh3|AluYm1|AluYk3|AluY' 'AluYa5|AluYa8|AluYh7'\n",
      " 'AluYa5|AluYa8|AluYi6|AluJb|AluJo|AluJr' 'AluYm1']\n"
     ]
    }
   ],
   "source": [
    "print(abs_df['mei'].unique())\n",
    "print(ins_df['mei'].unique())"
   ]
  },
  {
   "cell_type": "code",
   "execution_count": 32,
   "metadata": {},
   "outputs": [
    {
     "data": {
      "image/png": "[encoded data removed]",
      "text/plain": [
       "<Figure size 640x480 with 1 Axes>"
      ]
     },
     "metadata": {},
     "output_type": "display_data"
    }
   ],
   "source": [
    "sns.histplot(data=abs_df, x='svlen', bins=40);\n",
    "plt.title(f'{me_type} absence lengths')\n",
    "plt.tight_layout()"
   ]
  },
  {
   "cell_type": "code",
   "execution_count": 33,
   "metadata": {},
   "outputs": [
    {
     "data": {
      "image/png": "[encoded data removed]",
      "text/plain": [
       "<Figure size 640x480 with 1 Axes>"
      ]
     },
     "metadata": {},
     "output_type": "display_data"
    }
   ],
   "source": [
    "sns.scatterplot(data=abs_df, x='svlen', y='overlap', alpha=0.5)\n",
    "plt.title('SVLEN vs Repeatmasker overlap');"
   ]
  },
  {
   "cell_type": "code",
   "execution_count": 34,
   "metadata": {},
   "outputs": [
    {
     "data": {
      "image/png": "[encoded data removed]",
      "text/plain": [
       "<Figure size 640x480 with 1 Axes>"
      ]
     },
     "metadata": {},
     "output_type": "display_data"
    }
   ],
   "source": [
    "sns.histplot(data=ins_df, x='svlen', bins=40);\n",
    "plt.suptitle(f'{me_type} insertion lengths')\n",
    "plt.tight_layout()"
   ]
  },
  {
   "cell_type": "markdown",
   "metadata": {},
   "source": [
    "## Export data"
   ]
  },
  {
   "cell_type": "code",
   "execution_count": 60,
   "metadata": {},
   "outputs": [],
   "source": [
    "abs_out = abs_df[['chrom','start','end','id','svlen','strand','mei',\n",
    "                  'het','alt']].reset_index(drop=True)\n",
    "ins_out = ins_df[['chrom','start','end','id','svlen','strand','mei',\n",
    "                  'het','alt']].reset_index(drop=True)"
   ]
  },
  {
   "cell_type": "code",
   "execution_count": 61,
   "metadata": {},
   "outputs": [],
   "source": [
    "# Calculate number of high-quality variants per individual\n",
    "num_abs_qc = parse_vcf.get_num_vars_per_donor(samples, abs_out, 'abs')\n",
    "num_ins_qc = parse_vcf.get_num_vars_per_donor(samples, ins_out, 'ins')\n",
    "num_vars_qc = pd.concat([num_abs_qc, num_ins_qc])\n",
    "num_vars_qc['Filter'] = 'High-quality'"
   ]
  },
  {
   "cell_type": "code",
   "execution_count": 62,
   "metadata": {},
   "outputs": [],
   "source": [
    "vars_per_donor = pd.concat([num_vars_raw, num_vars_qc])\n",
    "vars_per_donor.to_csv(f'{outdir}/{me_type}_vars_per_donor.csv', index=True, header=True)"
   ]
  },
  {
   "cell_type": "code",
   "execution_count": 63,
   "metadata": {},
   "outputs": [],
   "source": [
    "# Calculate number of donors per high-quality variant\n",
    "num_donors_qc_abs = parse_vcf.get_num_donors_per_var(abs_df, 'abs')\n",
    "num_donors_qc_ins = parse_vcf.get_num_donors_per_var(ins_df, 'ins')\n",
    "num_donors_qc = pd.concat([num_donors_qc_abs, num_donors_qc_ins])\n",
    "num_donors_qc['Filter'] = 'High-quality'"
   ]
  },
  {
   "cell_type": "code",
   "execution_count": 64,
   "metadata": {},
   "outputs": [],
   "source": [
    "donors_per_var = pd.concat([num_donors_raw, num_donors_qc])\n",
    "donors_per_var.to_csv(f'{outdir}/{me_type}_donors_per_var.csv', index=False, header=True)"
   ]
  },
  {
   "cell_type": "code",
   "execution_count": 65,
   "metadata": {},
   "outputs": [],
   "source": [
    "# Write high-quality variants to file\n",
    "# TODO: Determine whether to write header or not\n",
    "abs_out['strand'] = abs_out['strand'].str.replace('C', '-')\n",
    "abs_out.to_csv(f'{outdir}/all_{me_type}_abs.tsv', sep='\\t', header=None, index=False)\n",
    "ins_out.to_csv(f'{outdir}/all_{me_type}_ins.tsv', sep='\\t', header=None, index=False)"
   ]
  },
  {
   "cell_type": "code",
   "execution_count": 66,
   "metadata": {},
   "outputs": [],
   "source": [
    "# Write polymorphic reference elements to file\n",
    "rmsk_out = abs_df['me_name']\n",
    "poly_file = f'{outdir}/polymorphic_ref{me_type}.txt'\n",
    "rmsk_out.to_csv(poly_file, sep='\\t', header=None, index=False)"
   ]
  },
  {
   "cell_type": "code",
   "execution_count": 67,
   "metadata": {},
   "outputs": [],
   "source": [
    "# Write non-polymorphic reference elements to file\n",
    "# !grep -v -f {poly_file} {rmsk_bed} > {outdir}/non-polymorphic_ref{me_type}.bed"
   ]
  }
 ],
 "metadata": {
  "kernelspec": {
   "display_name": "allcools",
   "language": "python",
   "name": "python3"
  },
  "language_info": {
   "codemirror_mode": {
    "name": "ipython",
    "version": 3
   },
   "file_extension": ".py",
   "mimetype": "text/x-python",
   "name": "python",
   "nbconvert_exporter": "python",
   "pygments_lexer": "ipython3",
   "version": "3.12.5"
  }
 },
 "nbformat": 4,
 "nbformat_minor": 2
}
