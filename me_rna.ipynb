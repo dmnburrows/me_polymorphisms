{
 "cells": [
  {
   "cell_type": "code",
   "execution_count": 1,
   "id": "6cd163de-4970-4633-b1a8-9ab89a24cf3a",
   "metadata": {},
   "outputs": [],
   "source": [
    "import os\n",
    "import pandas as pd\n",
    "import numpy as np\n",
    "import matplotlib.pyplot as plt\n",
    "import seaborn as sns\n",
    "from glob import glob\n",
    "from scipy.stats import permutation_test, false_discovery_control, spearmanr\n",
    "import pybedtools\n",
    "\n",
    "from warnings import filterwarnings\n",
    "filterwarnings(\"ignore\", category=pd.errors.DtypeWarning)\n",
    "filterwarnings(\"ignore\", category=pd.errors.SettingWithCopyWarning)\n",
    "\n",
    "#set up paths\n",
    "#=========================\n",
    "workdir = '/home/AD/rkgadde/L1IP'\n",
    "annotation = f'{workdir}/hg38_data/annotations/gencode.v46.basic.annotation.sorted.genes.gff3'\n",
    "celltypes = f'{workdir}/celltypes.txt'\n",
    "\n",
    "genedir = f'{workdir}/gene_data'\n",
    "figdir = f'{workdir}/results/CZI/plots'"
   ]
  }
 ],
 "metadata": {
  "kernelspec": {
   "display_name": "Python 3 (ipykernel)",
   "language": "python",
   "name": "python3"
  },
  "language_info": {
   "codemirror_mode": {
    "name": "ipython",
    "version": 3
   },
   "file_extension": ".py",
   "mimetype": "text/x-python",
   "name": "python",
   "nbconvert_exporter": "python",
   "pygments_lexer": "ipython3",
   "version": "3.10.2"
  }
 },
 "nbformat": 4,
 "nbformat_minor": 5
}
