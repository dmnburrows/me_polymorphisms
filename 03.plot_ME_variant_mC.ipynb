{
 "cells": [
  {
   "cell_type": "markdown",
   "metadata": {},
   "source": [
    "# Step 3: Plot binned methylation around MEs"
   ]
  },
  {
   "cell_type": "code",
   "execution_count": 122,
   "metadata": {},
   "outputs": [],
   "source": [
    "import pandas as pd\n",
    "# import pyarrow\n",
    "import numpy as np\n",
    "import matplotlib as mpl\n",
    "import matplotlib.pyplot as plt\n",
    "import seaborn as sns\n",
    "import statsmodels.formula.api as smf\n",
    "from statsmodels.stats.multitest import fdrcorrection\n",
    "\n",
    "import sys\n",
    "# add path to src module - note this is not a Pythonic solution\n",
    "sys.path.insert(1, '../') \n",
    "\n",
    "from src import plot_mC\n",
    "\n",
    "mpl.rcParams['pdf.fonttype'] = 42\n",
    "# plt.rc('axes', labelsize=12)"
   ]
  },
  {
   "cell_type": "code",
   "execution_count": 123,
   "metadata": {
    "tags": [
     "parameters"
    ]
   },
   "outputs": [],
   "source": [
    "me_type = 'L1'\n",
    "var_type = 'absence' # absence or insertion\n",
    "binsize = 100\n",
    "\n",
    "pdir = '/home/AD/rkgadde/L1IP/mC_data/CZI/type'\n",
    "outdir = '/home/AD/rkgadde/L1IP/results/CZI/plots/polymorphic'\n",
    "\n",
    "me_file = f'{pdir}/vars/all_{me_type}_{var_type[:3]}.tsv'"
   ]
  },
  {
   "cell_type": "code",
   "execution_count": 124,
   "metadata": {},
   "outputs": [],
   "source": [
    "var = var_type[:3]\n",
    "variant = f'{me_type}_{var}'\n",
    "\n",
    "if me_type == 'L1':\n",
    "    fl = 6000\n",
    "if me_type == 'Alu':\n",
    "    fl = 280"
   ]
  },
  {
   "cell_type": "markdown",
   "metadata": {},
   "source": [
    "## Load data"
   ]
  },
  {
   "cell_type": "code",
   "execution_count": 125,
   "metadata": {},
   "outputs": [],
   "source": [
    "me_df = pd.read_csv(me_file, sep='\\t',\n",
    "                    names=['chrom','start','end','id','svlen','strand','mei','het','alt'])"
   ]
  },
  {
   "cell_type": "code",
   "execution_count": 126,
   "metadata": {},
   "outputs": [
    {
     "name": "stdout",
     "output_type": "stream",
     "text": [
      "CPU times: user 519 ms, sys: 130 ms, total: 649 ms\n",
      "Wall time: 280 ms\n"
     ]
    },
    {
     "data": {
      "text/html": [
       "<div>\n",
       "<style scoped>\n",
       "    .dataframe tbody tr th:only-of-type {\n",
       "        vertical-align: middle;\n",
       "    }\n",
       "\n",
       "    .dataframe tbody tr th {\n",
       "        vertical-align: top;\n",
       "    }\n",
       "\n",
       "    .dataframe thead th {\n",
       "        text-align: right;\n",
       "    }\n",
       "</style>\n",
       "<table border=\"1\" class=\"dataframe\">\n",
       "  <thead>\n",
       "    <tr style=\"text-align: right;\">\n",
       "      <th></th>\n",
       "      <th>id</th>\n",
       "      <th>bin</th>\n",
       "      <th>sample</th>\n",
       "      <th>celltype</th>\n",
       "      <th>mc</th>\n",
       "      <th>cov</th>\n",
       "      <th>ctxt</th>\n",
       "      <th>genotype</th>\n",
       "      <th>location</th>\n",
       "    </tr>\n",
       "  </thead>\n",
       "  <tbody>\n",
       "    <tr>\n",
       "      <th>0</th>\n",
       "      <td>CZI_abs_1543</td>\n",
       "      <td>-1950</td>\n",
       "      <td>YM2</td>\n",
       "      <td>L4-5IT_RORB_ARHGAP15</td>\n",
       "      <td>3</td>\n",
       "      <td>3</td>\n",
       "      <td>mCG</td>\n",
       "      <td>NoL1</td>\n",
       "      <td>upstream</td>\n",
       "    </tr>\n",
       "    <tr>\n",
       "      <th>1</th>\n",
       "      <td>CZI_abs_1543</td>\n",
       "      <td>-1850</td>\n",
       "      <td>YM2</td>\n",
       "      <td>L4-5IT_RORB_ARHGAP15</td>\n",
       "      <td>6</td>\n",
       "      <td>6</td>\n",
       "      <td>mCG</td>\n",
       "      <td>NoL1</td>\n",
       "      <td>upstream</td>\n",
       "    </tr>\n",
       "    <tr>\n",
       "      <th>2</th>\n",
       "      <td>CZI_abs_1543</td>\n",
       "      <td>-1450</td>\n",
       "      <td>YM2</td>\n",
       "      <td>L4-5IT_RORB_ARHGAP15</td>\n",
       "      <td>6</td>\n",
       "      <td>6</td>\n",
       "      <td>mCG</td>\n",
       "      <td>NoL1</td>\n",
       "      <td>upstream</td>\n",
       "    </tr>\n",
       "    <tr>\n",
       "      <th>3</th>\n",
       "      <td>CZI_abs_1543</td>\n",
       "      <td>-1350</td>\n",
       "      <td>YM2</td>\n",
       "      <td>L4-5IT_RORB_ARHGAP15</td>\n",
       "      <td>7</td>\n",
       "      <td>7</td>\n",
       "      <td>mCG</td>\n",
       "      <td>NoL1</td>\n",
       "      <td>upstream</td>\n",
       "    </tr>\n",
       "    <tr>\n",
       "      <th>4</th>\n",
       "      <td>CZI_abs_1543</td>\n",
       "      <td>-650</td>\n",
       "      <td>YM2</td>\n",
       "      <td>L4-5IT_RORB_ARHGAP15</td>\n",
       "      <td>1</td>\n",
       "      <td>1</td>\n",
       "      <td>mCG</td>\n",
       "      <td>NoL1</td>\n",
       "      <td>upstream</td>\n",
       "    </tr>\n",
       "  </tbody>\n",
       "</table>\n",
       "</div>"
      ],
      "text/plain": [
       "             id   bin sample              celltype  mc  cov ctxt genotype  \\\n",
       "0  CZI_abs_1543 -1950    YM2  L4-5IT_RORB_ARHGAP15   3    3  mCG     NoL1   \n",
       "1  CZI_abs_1543 -1850    YM2  L4-5IT_RORB_ARHGAP15   6    6  mCG     NoL1   \n",
       "2  CZI_abs_1543 -1450    YM2  L4-5IT_RORB_ARHGAP15   6    6  mCG     NoL1   \n",
       "3  CZI_abs_1543 -1350    YM2  L4-5IT_RORB_ARHGAP15   7    7  mCG     NoL1   \n",
       "4  CZI_abs_1543  -650    YM2  L4-5IT_RORB_ARHGAP15   1    1  mCG     NoL1   \n",
       "\n",
       "   location  \n",
       "0  upstream  \n",
       "1  upstream  \n",
       "2  upstream  \n",
       "3  upstream  \n",
       "4  upstream  "
      ]
     },
     "execution_count": 126,
     "metadata": {},
     "output_type": "execute_result"
    }
   ],
   "source": [
    "%%time\n",
    "\n",
    "# Load the binned mC data\n",
    "df = pd.read_parquet(f'{pdir}/mC/binc-{binsize}.{variant}.all_samples.parquet.gz')\n",
    "# df['percent_mC'] = (df['mc'] / df['cov']) * 100\n",
    "df.loc[df['bin'] < 0, 'location'] = 'upstream'\n",
    "df.loc[df['bin'] > 0, 'location'] = 'downstream'\n",
    "df.head()"
   ]
  },
  {
   "cell_type": "code",
   "execution_count": 127,
   "metadata": {},
   "outputs": [],
   "source": [
    "# Get full-length and truncated variants\n",
    "fl_ids = me_df[me_df['svlen'] >= fl]['id'].unique()\n",
    "df_fl = df[df['id'].isin(fl_ids)]\n",
    "df_tr = df[~df['id'].isin(fl_ids)]"
   ]
  },
  {
   "cell_type": "code",
   "execution_count": 128,
   "metadata": {},
   "outputs": [],
   "source": [
    "# Aggregate counts for each bin across loci\n",
    "# TODO: Decide whether to aggregate by summing or averaging\n",
    "# TODO: Decide whether to implement coverage filter\n",
    "df_gt_all = plot_mC.aggregate_mC_by_sum(df, ['ctxt','celltype','bin','genotype'])\n",
    "df_gt_fl = plot_mC.aggregate_mC_by_sum(df_fl, ['ctxt','celltype','bin','genotype'])\n",
    "df_gt_tr = plot_mC.aggregate_mC_by_sum(df_tr, ['ctxt','celltype','bin','genotype'])"
   ]
  },
  {
   "cell_type": "code",
   "execution_count": 129,
   "metadata": {},
   "outputs": [
    {
     "data": {
      "text/html": [
       "<div>\n",
       "<style scoped>\n",
       "    .dataframe tbody tr th:only-of-type {\n",
       "        vertical-align: middle;\n",
       "    }\n",
       "\n",
       "    .dataframe tbody tr th {\n",
       "        vertical-align: top;\n",
       "    }\n",
       "\n",
       "    .dataframe thead th {\n",
       "        text-align: right;\n",
       "    }\n",
       "</style>\n",
       "<table border=\"1\" class=\"dataframe\">\n",
       "  <thead>\n",
       "    <tr style=\"text-align: right;\">\n",
       "      <th></th>\n",
       "      <th></th>\n",
       "      <th></th>\n",
       "      <th></th>\n",
       "      <th>mc</th>\n",
       "      <th>cov</th>\n",
       "      <th>percent_mC</th>\n",
       "    </tr>\n",
       "    <tr>\n",
       "      <th>ctxt</th>\n",
       "      <th>celltype</th>\n",
       "      <th>bin</th>\n",
       "      <th>genotype</th>\n",
       "      <th></th>\n",
       "      <th></th>\n",
       "      <th></th>\n",
       "    </tr>\n",
       "  </thead>\n",
       "  <tbody>\n",
       "    <tr>\n",
       "      <th rowspan=\"5\" valign=\"top\">mCG</th>\n",
       "      <th rowspan=\"5\" valign=\"top\">CGE_ADARB2_ADAM33</th>\n",
       "      <th rowspan=\"3\" valign=\"top\">-1950</th>\n",
       "      <th>Het</th>\n",
       "      <td>1830</td>\n",
       "      <td>2624</td>\n",
       "      <td>69.740854</td>\n",
       "    </tr>\n",
       "    <tr>\n",
       "      <th>L1</th>\n",
       "      <td>1378</td>\n",
       "      <td>1558</td>\n",
       "      <td>88.446727</td>\n",
       "    </tr>\n",
       "    <tr>\n",
       "      <th>NoL1</th>\n",
       "      <td>1300</td>\n",
       "      <td>1523</td>\n",
       "      <td>85.357846</td>\n",
       "    </tr>\n",
       "    <tr>\n",
       "      <th rowspan=\"2\" valign=\"top\">-1850</th>\n",
       "      <th>Het</th>\n",
       "      <td>1898</td>\n",
       "      <td>2182</td>\n",
       "      <td>86.984418</td>\n",
       "    </tr>\n",
       "    <tr>\n",
       "      <th>L1</th>\n",
       "      <td>1922</td>\n",
       "      <td>2110</td>\n",
       "      <td>91.090047</td>\n",
       "    </tr>\n",
       "  </tbody>\n",
       "</table>\n",
       "</div>"
      ],
      "text/plain": [
       "                                         mc   cov  percent_mC\n",
       "ctxt celltype          bin   genotype                        \n",
       "mCG  CGE_ADARB2_ADAM33 -1950 Het       1830  2624   69.740854\n",
       "                             L1        1378  1558   88.446727\n",
       "                             NoL1      1300  1523   85.357846\n",
       "                       -1850 Het       1898  2182   86.984418\n",
       "                             L1        1922  2110   91.090047"
      ]
     },
     "execution_count": 129,
     "metadata": {},
     "output_type": "execute_result"
    }
   ],
   "source": [
    "df_gt_all.head()"
   ]
  },
  {
   "cell_type": "code",
   "execution_count": 130,
   "metadata": {},
   "outputs": [
    {
     "name": "stdout",
     "output_type": "stream",
     "text": [
      "Full-length:  50\n",
      "All:  122\n"
     ]
    }
   ],
   "source": [
    "print('Full-length: ', df_fl['id'].nunique())\n",
    "print('All: ', df['id'].nunique())"
   ]
  },
  {
   "cell_type": "code",
   "execution_count": 131,
   "metadata": {},
   "outputs": [
    {
     "data": {
      "text/plain": [
       "genotype\n",
       "Het     506\n",
       "NoL1    490\n",
       "L1      346\n",
       "Name: count, dtype: int64"
      ]
     },
     "execution_count": 131,
     "metadata": {},
     "output_type": "execute_result"
    }
   ],
   "source": [
    "gt_per_loci = df[['id','sample','genotype']].drop_duplicates()\n",
    "gt_per_loci['genotype'].value_counts()"
   ]
  },
  {
   "cell_type": "markdown",
   "metadata": {},
   "source": [
    "## Plot mC for each genotype"
   ]
  },
  {
   "cell_type": "code",
   "execution_count": 132,
   "metadata": {},
   "outputs": [],
   "source": [
    "if 'L1' in me_type:\n",
    "    xlims = [(-2000, -binsize/2), (binsize/2, 2000)]\n",
    "    xticks = np.arange(-1800,2160,360)\n",
    "\n",
    "if 'Alu' in me_type:\n",
    "    xlims = [(-1000, -binsize/2), (binsize/2, 1000)]\n",
    "    xticks = np.arange(-900,1080,180)"
   ]
  },
  {
   "cell_type": "code",
   "execution_count": 133,
   "metadata": {},
   "outputs": [],
   "source": [
    "celltypes = df['celltype'].unique()\n",
    "contexts = df['ctxt'].unique()"
   ]
  },
  {
   "cell_type": "markdown",
   "metadata": {},
   "source": [
    "### Full-length variants"
   ]
  },
  {
   "cell_type": "code",
   "execution_count": 134,
   "metadata": {},
   "outputs": [],
   "source": [
    "# for ct in celltypes:\n",
    "#     for ctxt in contexts:\n",
    "#         labels = {'xlabel': f'Position relative to {me_type} {var_type} (bp)',\n",
    "#                   'ylabel': f'%{ctxt}',\n",
    "#                   'title': ct}\n",
    "#         pdf = f'{outdir}/mC_by_genotype/fl_{variant}_{ctxt}_{ct}_gt_bin{binsize}.pdf'\n",
    "#         df_plot_fl = df_gt_fl.loc[ctxt, ct].reset_index()\n",
    "\n",
    "#         fig = plot_mC.plot_mC_by_genotype(df_plot_fl, me_type, binsize, xlims, xticks, labels, pdf)"
   ]
  },
  {
   "cell_type": "markdown",
   "metadata": {},
   "source": [
    "### Non-full-length variants"
   ]
  },
  {
   "cell_type": "code",
   "execution_count": 135,
   "metadata": {},
   "outputs": [],
   "source": [
    "# for ct in celltypes:\n",
    "#     for ctxt in contexts:\n",
    "#         labels = {'xlabel': f'Position relative to {me_type} {var_type} (bp)',\n",
    "#                   'ylabel': f'%{ctxt}',\n",
    "#                   'title': ct}\n",
    "#         pdf = f'{outdir}/mC_by_genotype/tr_{variant}_{ctxt}_{ct}_gt_bin{binsize}.pdf'\n",
    "#         df_plot_tr = df_gt_tr.loc[ctxt, ct].reset_index()\n",
    "\n",
    "#         fig = plot_mC.plot_mC_by_genotype(df_plot_tr, me_type, binsize, xlims, xticks, labels, pdf)"
   ]
  },
  {
   "cell_type": "markdown",
   "metadata": {},
   "source": [
    "### All variants"
   ]
  },
  {
   "cell_type": "code",
   "execution_count": 136,
   "metadata": {},
   "outputs": [],
   "source": [
    "for ct in celltypes:\n",
    "    for ctxt in contexts:\n",
    "        labels = {'xlabel': f'Position relative to {me_type} {var_type} (bp)',\n",
    "                  'ylabel': f'%{ctxt}',\n",
    "                  'title': ct}\n",
    "        pdf = f'{outdir}/mC_by_genotype/all_{variant}_{ctxt}_{ct}_gt_bin{binsize}.pdf'\n",
    "        df_plot_all = df_gt_all.loc[ctxt, ct].reset_index()\n",
    "        \n",
    "        fig = plot_mC.plot_mC_by_genotype(df_plot_all, me_type, binsize, xlims, xticks, labels, pdf)"
   ]
  },
  {
   "cell_type": "markdown",
   "metadata": {},
   "source": [
    "## Test periodicity of each genotype"
   ]
  },
  {
   "cell_type": "code",
   "execution_count": 104,
   "metadata": {},
   "outputs": [],
   "source": [
    "df_test = plot_mC.aggregate_mC_by_sum(df, ['ctxt','celltype','location','bin','genotype'])\n",
    "df_res = plot_mC.test_periodicity(df_test, ['ctxt','celltype','location','genotype'])\n",
    "df_res.to_csv(f'{outdir}/mC_period/{variant}_{ctxt}_gt_bin{binsize}.tsv', sep='\\t', index=None)"
   ]
  },
  {
   "cell_type": "code",
   "execution_count": 105,
   "metadata": {},
   "outputs": [],
   "source": [
    "for ct in celltypes:\n",
    "    for ctxt in contexts:\n",
    "        df_bar = df_res[(df_res['celltype'] == ct) & (df_res['ctxt'] == ctxt)]\n",
    "\n",
    "        ax = sns.barplot(df_bar, \n",
    "                    x='location', y='amplitude', \n",
    "                    order=['upstream', 'downstream'],\n",
    "                    hue='genotype', \n",
    "                    hue_order=[f'No{me_type}','Het',me_type], \n",
    "                    palette=['turquoise','orange','mediumvioletred'])\n",
    "        \n",
    "        sns.move_legend(ax, 'center left', bbox_to_anchor=(1,0.5))\n",
    "        plt.title(ct)\n",
    "\n",
    "        pdf = f'{outdir}/mC_period/{variant}_{ctxt}_{ct}_gt_bin{binsize}.pdf'\n",
    "        plt.savefig(pdf, transparent=True, bbox_inches='tight')\n",
    "        plt.close()"
   ]
  },
  {
   "cell_type": "markdown",
   "metadata": {},
   "source": [
    "## Plot paired mCH for each locus"
   ]
  },
  {
   "cell_type": "markdown",
   "metadata": {},
   "source": [
    "There are less CG sites than CH sites in the genome, so mCG signal is too noisy to look at individual loci."
   ]
  },
  {
   "cell_type": "code",
   "execution_count": 106,
   "metadata": {},
   "outputs": [],
   "source": [
    "if 'mCH' in contexts:\n",
    "    df_ch = df[df['ctxt'] == 'mCH']\n",
    "    df_gt_locus = plot_mC.aggregate_mC_by_sum(df_ch, ['id','ctxt','bin','celltype','genotype'])\n",
    "    df_gt_locus = df_gt_locus[df_gt_locus['cov'] > (binsize*0.2)]\n",
    "\n",
    "    bin_up = df_gt_locus.xs(-binsize/2, level='bin', drop_level=False)['percent_mC']\n",
    "    bin_up = bin_up.unstack('genotype')\n",
    "\n",
    "    for ct in celltypes:\n",
    "        df_gt_pair = bin_up.xs(ct, level='celltype', drop_level=False)\n",
    "        pdf = f'{outdir}/mC_by_locus/paired_{variant}_mCH_{ct}_bin{binsize}.pdf'\n",
    "        fig = plot_mC.plot_paired_mC(df_gt_pair, me_type, 'mCH', ct, pdf)"
   ]
  }
 ],
 "metadata": {
  "kernelspec": {
   "display_name": "allcools",
   "language": "python",
   "name": "python3"
  },
  "language_info": {
   "codemirror_mode": {
    "name": "ipython",
    "version": 3
   },
   "file_extension": ".py",
   "mimetype": "text/x-python",
   "name": "python",
   "nbconvert_exporter": "python",
   "pygments_lexer": "ipython3",
   "version": "3.12.5"
  }
 },
 "nbformat": 4,
 "nbformat_minor": 2
}
