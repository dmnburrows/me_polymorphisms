{
 "cells": [
  {
   "cell_type": "code",
   "execution_count": 1,
   "id": "5a6f2201-0153-4c62-b4db-97fd253d81c6",
   "metadata": {},
   "outputs": [],
   "source": [
    "import os\n",
    "import pandas as pd\n",
    "import numpy as np\n",
    "import matplotlib.pyplot as plt\n",
    "import seaborn as sns\n",
    "from glob import glob\n",
    "from scipy.stats import permutation_test, false_discovery_control, spearmanr\n",
    "import pybedtools\n",
    "\n",
    "from warnings import filterwarnings\n",
    "filterwarnings(\"ignore\", category=pd.errors.DtypeWarning)\n",
    "filterwarnings(\"ignore\", category=pd.errors.SettingWithCopyWarning)\n",
    "\n"
   ]
  },
  {
   "cell_type": "code",
   "execution_count": null,
   "id": "b51a131a-7f3c-40dc-9798-d5f50e792185",
   "metadata": {},
   "outputs": [],
   "source": [
    "# load in locations of insertions/absences, make sure all info is there"
   ]
  },
  {
   "cell_type": "code",
   "execution_count": null,
   "id": "018b11b1-9870-4cc5-933a-46e6fd09a8a4",
   "metadata": {},
   "outputs": [],
   "source": [
    "# find out how to get methylation"
   ]
  },
  {
   "cell_type": "code",
   "execution_count": null,
   "id": "f7897313-b6ff-45f6-83b7-ce92e86c5486",
   "metadata": {},
   "outputs": [],
   "source": [
    "# plot metagene within gene itself"
   ]
  },
  {
   "cell_type": "code",
   "execution_count": null,
   "id": "720268a7-4e9b-4587-bb6e-eaee307e884e",
   "metadata": {},
   "outputs": [],
   "source": [
    "# split by xyz"
   ]
  }
 ],
 "metadata": {
  "kernelspec": {
   "display_name": "Python 3 (ipykernel)",
   "language": "python",
   "name": "python3"
  },
  "language_info": {
   "codemirror_mode": {
    "name": "ipython",
    "version": 3
   },
   "file_extension": ".py",
   "mimetype": "text/x-python",
   "name": "python",
   "nbconvert_exporter": "python",
   "pygments_lexer": "ipython3",
   "version": "3.10.2"
  }
 },
 "nbformat": 4,
 "nbformat_minor": 5
}
